{
 "cells": [
  {
   "cell_type": "code",
   "execution_count": 1,
   "id": "afcbdd07",
   "metadata": {},
   "outputs": [],
   "source": [
    "def factorial(n):\n",
    "    if n == 0:\n",
    "        answer = 1\n",
    "    else:\n",
    "        answer= n*factorial(n-1)\n",
    "    return answer"
   ]
  },
  {
   "cell_type": "markdown",
   "id": "32690bc9",
   "metadata": {},
   "source": [
    "# Re-write as an Iterative Function"
   ]
  },
  {
   "cell_type": "code",
   "execution_count": 1,
   "id": "21656273",
   "metadata": {},
   "outputs": [],
   "source": [
    "def Factorial(n):\n",
    "    if n== 0:\n",
    "        answer= 1\n",
    "    else:\n",
    "        answer = 0\n",
    "        while n > 0:\n",
    "            answer = answer + n*(n-1)\n",
    "            n = n-1\n",
    "    return answer"
   ]
  },
  {
   "cell_type": "code",
   "execution_count": 2,
   "id": "67d9197e",
   "metadata": {},
   "outputs": [
    {
     "data": {
      "text/plain": [
       "8"
      ]
     },
     "execution_count": 2,
     "metadata": {},
     "output_type": "execute_result"
    }
   ],
   "source": [
    "Factorial(3)"
   ]
  },
  {
   "cell_type": "code",
   "execution_count": null,
   "id": "bf33ca43",
   "metadata": {},
   "outputs": [],
   "source": []
  }
 ],
 "metadata": {
  "kernelspec": {
   "display_name": "Python 3 (ipykernel)",
   "language": "python",
   "name": "python3"
  },
  "language_info": {
   "codemirror_mode": {
    "name": "ipython",
    "version": 3
   },
   "file_extension": ".py",
   "mimetype": "text/x-python",
   "name": "python",
   "nbconvert_exporter": "python",
   "pygments_lexer": "ipython3",
   "version": "3.11.4"
  }
 },
 "nbformat": 4,
 "nbformat_minor": 5
}
